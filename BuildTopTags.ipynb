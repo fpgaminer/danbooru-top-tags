{
 "cells": [
  {
   "cell_type": "code",
   "execution_count": 1,
   "metadata": {},
   "outputs": [],
   "source": [
    "import psycopg2\n",
    "import json\n",
    "from tqdm import tqdm\n",
    "from pathlib import Path"
   ]
  },
  {
   "cell_type": "code",
   "execution_count": 2,
   "metadata": {},
   "outputs": [],
   "source": [
    "def get_db_connection():\n",
    "\treturn psycopg2.connect(host=(Path.cwd() / \"..\" / \"pg-socket\").absolute(), database=\"postgres\", user=\"postgres\")\n",
    "\n",
    "\n",
    "def read_tag_aliases():\n",
    "\t\"\"\"Returns a dictionary of tag aliases. Given a tag like \"ff7\" as key, for example, the value would be \"final_fantasy_vii\".\"\"\"\n",
    "\taliases = {}\n",
    "\n",
    "\twith open('../metadata/tag_aliases000000000000.json', 'r') as f:\n",
    "\t\taliases = {}\n",
    "\n",
    "\t\tfor line in f:\n",
    "\t\t\talias = json.loads(line)\n",
    "\t\t\taliases[alias['antecedent_name']] = alias['consequent_name']\n",
    "\t\n",
    "\treturn aliases\n",
    "\n",
    "\n",
    "def read_tag_implications():\n",
    "\t\"\"\"Returns a dictionary of tag implications. Given a tag like \"mouse_ears\" as key, for example, the value would be \"animal_ears\".\"\"\"\n",
    "\timplications = {}\n",
    "\n",
    "\twith open('../metadata/tag_implications000000000000.json', 'r') as f:\n",
    "\t\timplications = {}\n",
    "\n",
    "\t\tfor line in f:\n",
    "\t\t\timplication = json.loads(line)\n",
    "\t\t\timplications[implication['antecedent_name']] = implication['consequent_name']\n",
    "\t\n",
    "\treturn implications\n",
    "\n",
    "\n",
    "def read_tag_blacklist():\n",
    "\t\"\"\"Returns a set of blacklisted tags.\"\"\"\n",
    "\twith open('tag_blacklist.txt', 'r') as f:\n",
    "\t\treturn set(l.strip() for l in f.read().splitlines() if l.strip() != '')"
   ]
  },
  {
   "cell_type": "code",
   "execution_count": 3,
   "metadata": {},
   "outputs": [
    {
     "name": "stdout",
     "output_type": "stream",
     "text": [
      "Reading tag aliases and implications...\n",
      "Counting posts...\n",
      "Reading posts...\n"
     ]
    },
    {
     "name": "stderr",
     "output_type": "stream",
     "text": [
      "100%|██████████| 4620889/4620889 [09:02<00:00, 8518.67it/s] "
     ]
    },
    {
     "name": "stdout",
     "output_type": "stream",
     "text": [
      "Min tags: 1\n",
      "Max tags: 1160\n",
      "Mean tags: 32.634047907231704\n"
     ]
    },
    {
     "name": "stderr",
     "output_type": "stream",
     "text": [
      "\n"
     ]
    }
   ],
   "source": [
    "# Count tag usage of all valid posts\n",
    "# Tag aliases are applied to canonicalize tags\n",
    "# Tag implications are applied to expand tags and make sure general tags are counted correctly.  For example, \"mouse_ears\" is an implication of \"animal_ears\", so if a post has \"mouse_ears\" it should be counted as having \"animal_ears\" as well.\n",
    "db = get_db_connection()\n",
    "\n",
    "print(\"Reading tag aliases and implications...\")\n",
    "tag_aliases = read_tag_aliases()\n",
    "tag_implications = read_tag_implications()\n",
    "\n",
    "# Canonicalize tag implications\n",
    "for tag, implied_tag in list(tag_implications.items()):\n",
    "\t# Canonicalize the implied tag\n",
    "\tif implied_tag in tag_aliases:\n",
    "\t\ttag_implications[tag] = tag_aliases[implied_tag]\n",
    "\t\n",
    "\t# Canonicalize the tag\n",
    "\tif tag in tag_aliases:\n",
    "\t\ttag_implications[tag_aliases[tag]] = tag_implications[tag]\n",
    "\n",
    "print(\"Counting posts...\")\n",
    "with db.cursor() as cur:\n",
    "\t# Only count posts with embeddings (this excludes gif posts, for example)\n",
    "\tcur.execute(\"SELECT COUNT(*) FROM metadata INNER JOIN embeddings ON metadata.file_hash = embeddings.hash\")\n",
    "\ttotal_posts, = cur.fetchone()\n",
    "\n",
    "print(\"Reading posts...\")\n",
    "tag_counts = {}\n",
    "min_tags = None\n",
    "max_tags = None\n",
    "mean_tags = 0\n",
    "mean_tags_count = 0\n",
    "\n",
    "with db.cursor(\"tag_query\") as cur:\n",
    "\tcur.execute(\"SELECT tag_string, score FROM metadata INNER JOIN embeddings ON metadata.file_hash = embeddings.hash\")\n",
    "\n",
    "\tfor tag_string, score in tqdm(cur, total=total_posts):\n",
    "\t\tpost_tags = set(t.strip() for t in tag_string.split(' '))\n",
    "\n",
    "\t\t# Apply tag aliases\n",
    "\t\tpost_tags = set(tag_aliases.get(tag, tag) for tag in post_tags)\n",
    "\n",
    "\t\t# Apply tag implications\n",
    "\t\tpost_tags.update(set(tag_implications.get(tag, tag) for tag in post_tags))\n",
    "\n",
    "\t\tfor tag in post_tags:\n",
    "\t\t\ttag_counts[tag] = tag_counts.get(tag, 0) + 1\n",
    "\t\t\n",
    "\t\tif min_tags is None or len(post_tags) < min_tags:\n",
    "\t\t\tmin_tags = len(post_tags)\n",
    "\t\t\n",
    "\t\tif max_tags is None or len(post_tags) > max_tags:\n",
    "\t\t\tmax_tags = len(post_tags)\n",
    "\t\t\n",
    "\t\tmean_tags += len(post_tags)\n",
    "\t\tmean_tags_count += 1\n",
    "\n",
    "mean_tags /= mean_tags_count\n",
    "\n",
    "print(f\"Min tags: {min_tags}\")\n",
    "print(f\"Max tags: {max_tags}\")\n",
    "print(f\"Mean tags: {mean_tags}\")"
   ]
  },
  {
   "cell_type": "code",
   "execution_count": 11,
   "metadata": {},
   "outputs": [],
   "source": [
    "# Remove blacklisted tags\n",
    "tag_blacklist = read_tag_blacklist()\n",
    "\n",
    "for tag in tag_blacklist:\n",
    "\tif tag in tag_counts:\n",
    "\t\tdel tag_counts[tag]"
   ]
  },
  {
   "cell_type": "code",
   "execution_count": 12,
   "metadata": {},
   "outputs": [],
   "source": [
    "# Sort tags by count\n",
    "tags = sorted(tag_counts.items(), key=lambda x: x[1], reverse=True)"
   ]
  },
  {
   "cell_type": "code",
   "execution_count": 13,
   "metadata": {},
   "outputs": [
    {
     "name": "stdout",
     "output_type": "stream",
     "text": [
      "Found 482000 tags\n",
      "Found 1552 tags with at least 10,000 usage\n",
      "Found 6813 tags with at least 1,000 usage\n"
     ]
    }
   ],
   "source": [
    "print(f\"Found {len(tags)} tags\")\n",
    "print(f\"Found {len([tag for tag, count in tags if count >= 10000])} tags with at least 10,000 usage\")\n",
    "print(f\"Found {len([tag for tag, count in tags if count >= 1000])} tags with at least 1,000 usage\")"
   ]
  },
  {
   "cell_type": "code",
   "execution_count": 14,
   "metadata": {},
   "outputs": [],
   "source": [
    "# Top 6000 tags\n",
    "top_tags = tags[:6000]"
   ]
  },
  {
   "cell_type": "code",
   "execution_count": 15,
   "metadata": {},
   "outputs": [],
   "source": [
    "# Write top tags to file\n",
    "with open('top_tags.txt', 'w') as f:\n",
    "\tfor tag, count in top_tags:\n",
    "\t\tf.write(tag + '\\n')"
   ]
  },
  {
   "cell_type": "code",
   "execution_count": 16,
   "metadata": {},
   "outputs": [
    {
     "name": "stdout",
     "output_type": "stream",
     "text": [
      "False\n",
      "False\n",
      "False\n",
      "False\n",
      "False\n",
      "False\n",
      "False\n",
      "False\n",
      "False\n"
     ]
    }
   ],
   "source": [
    "print('safe' in top_tags)\n",
    "print('questionable' in top_tags)\n",
    "print('nsfw' in top_tags)\n",
    "print('worst_quality' in top_tags)\n",
    "print('low_quality' in top_tags)\n",
    "print('medium_quality' in top_tags)\n",
    "print('high_quality' in top_tags)\n",
    "print('best_quality' in top_tags)\n",
    "print('masterpiece' in top_tags)"
   ]
  },
  {
   "cell_type": "code",
   "execution_count": null,
   "metadata": {},
   "outputs": [],
   "source": []
  }
 ],
 "metadata": {
  "kernelspec": {
   "display_name": "tmpenv",
   "language": "python",
   "name": "python3"
  },
  "language_info": {
   "codemirror_mode": {
    "name": "ipython",
    "version": 3
   },
   "file_extension": ".py",
   "mimetype": "text/x-python",
   "name": "python",
   "nbconvert_exporter": "python",
   "pygments_lexer": "ipython3",
   "version": "3.10.8"
  },
  "orig_nbformat": 4,
  "vscode": {
   "interpreter": {
    "hash": "7f47e874c3c96b3613ef44b16c1da1f77d4190aee63022dc47fef05a00efccd6"
   }
  }
 },
 "nbformat": 4,
 "nbformat_minor": 2
}
